{
 "cells": [
  {
   "cell_type": "markdown",
   "metadata": {},
   "source": [
    "Jan 2016\n",
    "<img width=300 src=\"./fig/ladisk.png\">\n",
    "\n",
    "<center>[izr.prof. dr. Janko Slavič](http://www.ladisk.si/~slavic)</center>\n",
    "\n",
    "\n",
    "<center>[Repozitorij pypinm](http://github.com/jankoslavic/pypinm)</center>"
   ]
  },
  {
   "cell_type": "code",
   "execution_count": 1,
   "metadata": {
    "collapsed": false
   },
   "outputs": [
    {
     "name": "stderr",
     "output_type": "stream",
     "text": [
      "c:\\anaconda3\\lib\\site-packages\\matplotlib\\__init__.py:872: UserWarning: axes.color_cycle is deprecated and replaced with axes.prop_cycle; please use the latter.\n",
      "  warnings.warn(self.msg_depr % (key, alt_key))\n"
     ]
    }
   ],
   "source": [
    "import numpy as np\n",
    "import matplotlib.pyplot as plt\n",
    "%matplotlib inline\n",
    "import seaborn # ta paket lahko odstranite, namenjen je lepšemu izrisu"
   ]
  },
  {
   "cell_type": "markdown",
   "metadata": {},
   "source": [
    "# 1. Testiranje pravilnosti kode"
   ]
  },
  {
   "cell_type": "markdown",
   "metadata": {},
   "source": [
    "Standardno se v Pythonu uporabljajo t.i. ``unittest`` ([docs.python.org](https://docs.python.org/3.4/library/unittest.html)), ki pa je osredotočen bolj na splošno programiranje, ne toliko na praverjanje numerično orientirane kode. Iz tega razloga si bomo tukaj pogledali kako je testiranje podprto znotraj ``numpy.testing`` modula ([docs.scipy.org](http://docs.scipy.org/doc/numpy/reference/routines.testing.html#)).\n",
    "\n",
    "Gremo sedaj v pyCharm in bomo tam ustvarili ``test_orodja.py``:\n",
    "\n",
    "1. potrebovali bomo \n",
    "```python\n",
    "import orodja\n",
    "import numpy as np\n",
    "```\n",
    "\n",
    "2. nato definiramo tri matrike (npr. dimenzije (3, 3)): ``zacetna``, ``zamenjana_0_1_stolpca``, ``zamenjana_0_1_vrstica``\n",
    "\n",
    "3. za zamenjavo stolpcev definiramo funkcijo ``test_stolpec``, ki kliče ``orodja.zamenjaj_stolpca``. Rezultat predhodnega klica s pomočjo ``np.testing.assert_allclose`` preverimo glede na pričakovano vrednost  ``zamenjana_0_1_stolpca``.\n",
    "\n",
    "4. ponovimo točko 3 še za zamenjavo vrstic\n",
    "\n",
    "5. naredimo privzeti izhod\n",
    "```python\n",
    "    if __name__ == '__main__':\n",
    "        npt.run_module_suite()\n",
    "```"
   ]
  },
  {
   "cell_type": "markdown",
   "metadata": {},
   "source": [
    "# 2. Uporabniški vmesnik"
   ]
  },
  {
   "cell_type": "markdown",
   "metadata": {},
   "source": [
    "Za programiranje uporbniškega vmesnika obstaja veliko različnih modulov. \n",
    "\n",
    "Tukaj si bomo pogledali ``PyQt`` (temelji na ``Qt`` http://qt-project.org/). Alternativa ``PyQt`` je PySide, ki je praktično isti modul vendar s širšo licenco LGPL: http://qt-project.org/wiki/PySide\n",
    "\n",
    "Pdf knjige o PySide: **Venkateshwaran Loganathan: PySide GUI Application Development**: http://goo.gl/qn5jOq).\n",
    "\n",
    "Velja omeniti, da uporabniški vmesnik lahko *rišemo* (npr. s ``QtDesigner-jem``, glejte npr.: https://www.youtube.com/watch?v=GLqrzLIIW2E), tukaj bomo uporabniški vmesnik *programirali*.\n",
    "\n",
    "Opomba: obstaja več različnih možnosti za uporabniški vmesnik; za programiranje preprostih multi-touchuporabniških vmesnikov (tablice in podobno) je npr. zelo obetaven ``Kivy`` (http://kivy.org/). "
   ]
  },
  {
   "cell_type": "markdown",
   "metadata": {},
   "source": [
    "## Preprosti primer 1"
   ]
  },
  {
   "cell_type": "code",
   "execution_count": 2,
   "metadata": {
    "collapsed": false
   },
   "outputs": [],
   "source": [
    "import sys\n",
    "from PyQt4 import QtCore # za interakcijo \n",
    "from PyQt4 import QtGui  # grafični objekti"
   ]
  },
  {
   "cell_type": "markdown",
   "metadata": {},
   "source": [
    "Ustvarimo najprej instanco objekta ``QApplication`` (vsak UV mora imeti eno takšno instanco)"
   ]
  },
  {
   "cell_type": "code",
   "execution_count": 3,
   "metadata": {
    "collapsed": false
   },
   "outputs": [],
   "source": [
    "app = QtGui.QApplication(sys.argv)"
   ]
  },
  {
   "cell_type": "markdown",
   "metadata": {},
   "source": [
    "Dodajmo in prikažimo preposti napis:"
   ]
  },
  {
   "cell_type": "code",
   "execution_count": 4,
   "metadata": {
    "collapsed": false
   },
   "outputs": [],
   "source": [
    "label = QtGui.QLabel(\"Dobrodošli\")\n",
    "label.show()"
   ]
  },
  {
   "cell_type": "markdown",
   "metadata": {},
   "source": [
    "Vstopimo v aplikacijo"
   ]
  },
  {
   "cell_type": "code",
   "execution_count": null,
   "metadata": {
    "collapsed": false
   },
   "outputs": [],
   "source": [
    "# Enter Qt application main loop\n",
    "app.exec_()"
   ]
  },
  {
   "cell_type": "markdown",
   "metadata": {},
   "source": [
    "Sedaj gremo v pyCharm, ker tukaj več nima smisla veliko delati na UV.\n",
    "\n",
    "Kaj bomo naredili:\n",
    "* ``MainWindow()`` razred, ki bo potomec ``QMainWindow``\n",
    "\n",
    "    http://srinikom.github.io/pyside-docs/PySide/QtGui/QMainWindow.html\n",
    "    <img src=\"http://srinikom.github.io/pyside-docs/_images/mainwindowlayout.png\">\n",
    "    \n",
    "* ``QStatusBar()``\n",
    "* ``QStatusBar()`` in ``QProgressBar()``\n",
    "* ``QCentralWidget()``\n",
    "* Ekstra: ``matplotlib``\n",
    "* Ekstra: **events** (dogodki, npr mouseDoubleClick, keyPress)"
   ]
  },
  {
   "cell_type": "markdown",
   "metadata": {},
   "source": [
    "# Do naslednjih vaj preštudirajte sledeče:"
   ]
  },
  {
   "cell_type": "markdown",
   "metadata": {},
   "source": [
    "1. V pyCharm-u pripravite modul, ki bo imel dve funkciji:\n",
    "    * za množenje matrike in vektorja\n",
    "    * za množenje dveh matrik\n",
    "* Za modul zgoraj pripravite skripto za testiranje (uporabite ``numpy.testing``)\n",
    "* V ``uporabniski_vmesnik_simple.py`` inicializijski metodi ``__init__`` zakomentirajte vse klice na metode ``self.init...`` razen na metodo: ``self.init_status_bar()``. Poženite program v navadnem načinu. Nastavite *break* točko na ``self.setGeometry(50, 50, 600, 400)`` in poženite program v *debug* načinu.\n",
    "* Nadaljujte prejšnjo točko in poiščite bližnjico za pomikanje po vrsticah:\n",
    "    * s preskokom vrstice\n",
    "    * z vstopom v vrstico\n",
    "\n",
    "    Vstopite v ``init_status_bar(self)`` in se ustavite pri vrstici ``self.setStatusBar(self.status_bar)``. Odprite konzolo (*console*) in preko ukazne vrstice spremenite vrednost ``self.status_bar.showMessage()``.\n",
    "* Odkomentirajte prej (zgoraj) zakomentirane vrstice. Dodajte tretji gumb, ki naj program zapre.\n",
    "* Dodajte še kakšen *widget* iz seznama: http://doc.qt.io/qt-5/gallery-windows.html "
   ]
  },
  {
   "cell_type": "markdown",
   "metadata": {},
   "source": [
    "## Ekstra"
   ]
  },
  {
   "cell_type": "markdown",
   "metadata": {},
   "source": [
    "Poglejte primer ``uporabniski_vmesnik.py`` in ga preštudirajte. Nekaj točk za raziskovanje:\n",
    "1. Poglejte prepis dogodka ``mouseDoubleClickEvent`` in prepišite podedovan dogodek ``keyPressEvent``, ki naj ob pritisku katere-koli tipke zapre program (če se nahajate v TextEdit polju, potem seveda pritisk tipke izpiše vrednost te tipke).\n",
    "* Odkomentirajte prej (zgoraj) zakomentirane vrstice. Dodajte tretji gumb, ki naj program zapre.\n",
    "* Dodajte še kakšen *widget* iz seznama: http://doc.qt.io/qt-5/gallery-windows.html \n",
    "* Preprogramirajte program, da se bo vedno izrisoval sinus, v vpisno polje ``function_text`` pa boste zapisali število diskretnih točk (sedaj je točk 100).  Povežite polje z ustreznimi funkcijami.\n",
    "* Uredite lovljenje napak pri zgornji spremembi."
   ]
  },
  {
   "cell_type": "markdown",
   "metadata": {},
   "source": [
    "Želite več? Glejte vire (npr. zgoraj navedeno knjigo) in primere. Veliko primerov je tukaj: http://qt-project.org/wiki/PySide_Example_Applications\n",
    "\n",
    "Kako hitro lahko naredimo svoj brskalnik, si poglejte v ``brskalnik.py``"
   ]
  }
 ],
 "metadata": {
  "kernelspec": {
   "display_name": "Python 3",
   "language": "python",
   "name": "python3"
  },
  "language_info": {
   "codemirror_mode": {
    "name": "ipython",
    "version": 3
   },
   "file_extension": ".py",
   "mimetype": "text/x-python",
   "name": "python",
   "nbconvert_exporter": "python",
   "pygments_lexer": "ipython3",
   "version": "3.5.1"
  }
 },
 "nbformat": 4,
 "nbformat_minor": 0
}
