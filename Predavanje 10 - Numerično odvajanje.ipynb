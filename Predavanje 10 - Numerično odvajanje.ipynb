{
 "cells": [
  {
   "cell_type": "markdown",
   "metadata": {},
   "source": [
    "Dec 2015\n",
    "<img width=300 src=\"./fig/ladisk.png\">\n",
    "\n",
    "<center>[izr.prof. dr. Janko Slavič](http://www.ladisk.si/~slavic)</center>\n",
    "\n",
    "\n",
    "<center>[Repozitorij pypinm](http://github.com/jankoslavic/pypinm)</center>"
   ]
  },
  {
   "cell_type": "code",
   "execution_count": 1,
   "metadata": {
    "collapsed": false
   },
   "outputs": [],
   "source": [
    "import numpy as np\n",
    "import matplotlib.pyplot as plt\n",
    "%matplotlib inline\n",
    "from sympy import *\n",
    "init_printing()"
   ]
  },
  {
   "cell_type": "markdown",
   "metadata": {},
   "source": [
    "V okviru tega poglavja se želimo seznaniti s tem kako funkcijo $f(x)$ numerično odvajati, torej pridobiti rezultati: $f'(x)$, $f''(x)$,... \n",
    "\n",
    "Pri tam se imamo dva v principu različna pristopa:\n",
    "1. odvajanje glede na numerične vrednosti funkcije $f(x)$ pri različnih vrednostih $x$ in\n",
    "* najprej izvedemo interpolacijo ali aproksimacijo, nato pa na podlagi znanih interpolacijskih ali aproksimacijskih funkcij izračunamo odvod.\n",
    "\n",
    "Drugega pristopa si tukaj ne bomo podrobneje pogledali, saj smo o tej temi že govorili pri interpolaciji oz aproksimaciji). \n",
    "\n",
    "Če se torej osredotočimo na prvi pristop, odvajanje temelji na vrednostih funkcije pri različnih vrednostih $x$. Poglejmo si definicijo odvoda:\n",
    "$$f'(x)=\\lim_{\\Delta x \\rightarrow 0}\\frac{f(x+\\Delta x)-f(x)}{\\Delta x},$$\n",
    "ker je $\\Delta x$ v primeru numeričnih vrednosti končno velik, vendar vseeno zelo majhne, to pomeni, da v števcu odštevamo vrednosti funkcije, ki se  malo razlikujeta; poleg tega pa v imenovalcu delimo z majhno vrednostjo $\\Delta x$. Obojo povečuje negotovost / napako numeričnega odvoda. Iz rega razloga se numeričnemu odvajanju **izogibamo**, je pa numerično odvajanje v obliki t.i. metode **končnih razlik** zelo pomembno pri reševanju **diferencialnih enačb** (kakor si bomo pogledali v okviru predavanj na temo numeričnega reševanja diferencialnih enačb, se pri metodi končnih razlik osredotočimo na vrednosti funkcije $f$ in ne njenih odvod; to pomeni, da je negotovost manjša)."
   ]
  },
  {
   "cell_type": "markdown",
   "metadata": {},
   "source": [
    "# 1. Aproksimacija odvoda z metodo končnih razlik"
   ]
  },
  {
   "cell_type": "markdown",
   "metadata": {},
   "source": [
    "Odvod $f'(x)$ lahko aproksimiramo na podlagi razvoja Taylorje vrste. Tej metodi rečemo **metoda končnih razlik** ali tudi **diferenčna metoda**.\n",
    "\n",
    "Definirajmo najprej simbole:"
   ]
  },
  {
   "cell_type": "code",
   "execution_count": 2,
   "metadata": {
    "collapsed": false
   },
   "outputs": [
    {
     "name": "stdout",
     "output_type": "stream",
     "text": [
      "Requirement already up-to-date: sympy in c:\\anaconda3\\lib\\site-packages\n"
     ]
    }
   ],
   "source": [
    "f, x, h = symbols('f, x, h')\n",
    "# opomba: spodnje izvajanje v verziji sympy 0.7.5 lahko ne da pravega rezultat,\n",
    "# posodobite na zadnjo verzijo 0.7.6; uporabite ukaz\n",
    "!pip install -U sympy"
   ]
  },
  {
   "cell_type": "markdown",
   "metadata": {},
   "source": [
    "Nato nadaljujemo z razvojem **Taylorjeve vrste naprej** (ang. *forward Taylor series*):"
   ]
  },
  {
   "cell_type": "code",
   "execution_count": 3,
   "metadata": {
    "collapsed": false
   },
   "outputs": [
    {
     "data": {
      "image/png": "[encoded data removed]",
      "text/latex": [
       "$$f{\\left (x \\right )} + h \\left. \\frac{d}{d \\xi_{1}} f{\\left (\\xi_{1} \\right )} \\right|_{\\substack{ \\xi_{1}=x }} + \\mathcal{O}\\left(h^{2}\\right)$$"
      ],
      "text/plain": [
       "         ⎛ d        ⎞│        ⎛ 2⎞\n",
       "f(x) + h⋅⎜───(f(ξ₁))⎟│     + O⎝h ⎠\n",
       "         ⎝dξ₁       ⎠│ξ₁=x        "
      ]
     },
     "execution_count": 3,
     "metadata": {},
     "output_type": "execute_result"
    }
   ],
   "source": [
    "f(x+h).series(h, n=2)"
   ]
  },
  {
   "cell_type": "markdown",
   "metadata": {},
   "source": [
    "Pri tem so simboli prikazani na sliki:\n",
    "<img src='./fig/koncne_razlike.png' width=300>"
   ]
  },
  {
   "cell_type": "code",
   "execution_count": 4,
   "metadata": {
    "collapsed": false
   },
   "outputs": [
    {
     "data": {
      "image/png": "[encoded data removed]",
      "text/latex": [
       "$$f{\\left (h + x \\right )} = f{\\left (x \\right )} + h \\frac{d}{d x} f{\\left (x \\right )} + \\mathcal{O}\\left(h^{2}\\right)$$"
      ],
      "text/plain": [
       "                    d           ⎛ 2⎞\n",
       "f(h + x) = f(x) + h⋅──(f(x)) + O⎝h ⎠\n",
       "                    dx              "
      ]
     },
     "execution_count": 4,
     "metadata": {},
     "output_type": "execute_result"
    }
   ],
   "source": [
    "func = f(x+h)\n",
    "Eq(func, func.series(h, n=2).doit())"
   ]
  },
  {
   "cell_type": "code",
   "execution_count": 5,
   "metadata": {
    "collapsed": false
   },
   "outputs": [
    {
     "data": {
      "image/png": "[encoded data removed]",
      "text/latex": [
       "$$\\frac{1}{h} \\left(f{\\left (h + x \\right )} - f{\\left (x \\right )} + \\mathcal{O}\\left(h^{2}\\right)\\right)$$"
      ],
      "text/plain": [
       "                   ⎛ 2⎞\n",
       "f(h + x) - f(x) + O⎝h ⎠\n",
       "───────────────────────\n",
       "           h           "
      ]
     },
     "execution_count": 5,
     "metadata": {},
     "output_type": "execute_result"
    }
   ],
   "source": [
    "f1 = solve(\n",
    "      Eq(func, func.series(h, n=2).doit()#.removeO()\n",
    "        ),\n",
    "      f(x).diff(x)\n",
    "      )[0]\n",
    "f1"
   ]
  },
  {
   "cell_type": "markdown",
   "metadata": {},
   "source": [
    "Primer: $\\exp(-x)$"
   ]
  },
  {
   "cell_type": "code",
   "execution_count": 6,
   "metadata": {
    "collapsed": false
   },
   "outputs": [],
   "source": [
    "fp = exp(-x)"
   ]
  },
  {
   "cell_type": "code",
   "execution_count": 7,
   "metadata": {
    "collapsed": false
   },
   "outputs": [
    {
     "data": {
      "image/png": "[encoded data removed]",
      "text/latex": [
       "$$-0.367879441171442$$"
      ],
      "text/plain": [
       "-0.367879441171442"
      ]
     },
     "execution_count": 7,
     "metadata": {},
     "output_type": "execute_result"
    }
   ],
   "source": [
    "fp.diff(x).evalf(subs={x: 1})"
   ]
  },
  {
   "cell_type": "code",
   "execution_count": 8,
   "metadata": {
    "collapsed": false
   },
   "outputs": [
    {
     "name": "stderr",
     "output_type": "stream",
     "text": [
      "C:\\Anaconda3\\lib\\site-packages\\matplotlib\\collections.py:590: FutureWarning: elementwise comparison failed; returning scalar instead, but in the future will perform elementwise comparison\n",
      "  if self._edgecolors == str('face'):\n"
     ]
    },
    {
     "data": {
      "image/png": "[encoded data removed]",
      "text/plain": [
       "<matplotlib.figure.Figure at 0xa6850764a8>"
      ]
     },
     "metadata": {},
     "output_type": "display_data"
    }
   ],
   "source": [
    "dfp = fp.diff(x)\n",
    "plot(dfp, (x, 0, 2));"
   ]
  },
  {
   "cell_type": "markdown",
   "metadata": {},
   "source": [
    "Približek odvoda"
   ]
  },
  {
   "cell_type": "code",
   "execution_count": 9,
   "metadata": {
    "collapsed": false
   },
   "outputs": [
    {
     "data": {
      "image/png": "[encoded data removed]",
      "text/latex": [
       "$$\\frac{1}{h} \\left(f{\\left (h + x \\right )} - f{\\left (x \\right )} + \\mathcal{O}\\left(h^{2}\\right)\\right)$$"
      ],
      "text/plain": [
       "                   ⎛ 2⎞\n",
       "f(h + x) - f(x) + O⎝h ⎠\n",
       "───────────────────────\n",
       "           h           "
      ]
     },
     "execution_count": 9,
     "metadata": {},
     "output_type": "execute_result"
    }
   ],
   "source": [
    "f1"
   ]
  },
  {
   "cell_type": "code",
   "execution_count": 10,
   "metadata": {
    "collapsed": false
   },
   "outputs": [
    {
     "data": {
      "image/png": "[encoded data removed]",
      "text/latex": [
       "$$\\frac{1}{h} \\left(e^{- h - x} - e^{- x}\\right)$$"
      ],
      "text/plain": [
       " -h - x    -x\n",
       "ℯ       - ℯ  \n",
       "─────────────\n",
       "      h      "
      ]
     },
     "execution_count": 10,
     "metadata": {},
     "output_type": "execute_result"
    }
   ],
   "source": [
    "f1_priblizek = (fp.subs(x, x+h)-fp)/h\n",
    "f1_priblizek"
   ]
  },
  {
   "cell_type": "code",
   "execution_count": 11,
   "metadata": {
    "collapsed": false
   },
   "outputs": [
    {
     "data": {
      "image/png": "[encoded data removed]",
      "text/latex": [
       "$$-0.367695562748706$$"
      ],
      "text/plain": [
       "-0.367695562748706"
      ]
     },
     "execution_count": 11,
     "metadata": {},
     "output_type": "execute_result"
    }
   ],
   "source": [
    "f1_priblizek.subs(x, 1).subs(h, .001).evalf()"
   ]
  },
  {
   "cell_type": "markdown",
   "metadata": {},
   "source": [
    "### Nadaljujemo s teorijo"
   ]
  },
  {
   "cell_type": "markdown",
   "metadata": {},
   "source": [
    "Nadaljujemo s teorijo. Taylorjeva vrsta naprej:"
   ]
  },
  {
   "cell_type": "code",
   "execution_count": 12,
   "metadata": {
    "collapsed": false
   },
   "outputs": [
    {
     "data": {
      "image/png": "[encoded data removed]",
      "text/latex": [
       "$$f{\\left (h + x \\right )} = f{\\left (x \\right )} + h \\frac{d}{d x} f{\\left (x \\right )} + \\frac{h^{2}}{2} \\frac{d^{2}}{d x^{2}}  f{\\left (x \\right )} + \\mathcal{O}\\left(h^{3}\\right)$$"
      ],
      "text/plain": [
       "                                    2              \n",
       "                                2  d               \n",
       "                               h ⋅───(f(x))        \n",
       "                                    2              \n",
       "                    d             dx           ⎛ 3⎞\n",
       "f(h + x) = f(x) + h⋅──(f(x)) + ──────────── + O⎝h ⎠\n",
       "                    dx              2              "
      ]
     },
     "execution_count": 12,
     "metadata": {},
     "output_type": "execute_result"
    }
   ],
   "source": [
    "func = f(x+h)\n",
    "Eq(func, func.series(h, n=3).doit())"
   ]
  },
  {
   "cell_type": "markdown",
   "metadata": {},
   "source": [
    "Pripravimo še razvojem **Taylorjeve vrste nazaj** (ang. *backward Taylor series*):"
   ]
  },
  {
   "cell_type": "code",
   "execution_count": 13,
   "metadata": {
    "collapsed": false
   },
   "outputs": [
    {
     "data": {
      "image/png": "[encoded data removed]",
      "text/latex": [
       "$$f{\\left (- h + x \\right )} = f{\\left (x \\right )} - h \\frac{d}{d x} f{\\left (x \\right )} + \\frac{h^{2}}{2} \\frac{d^{2}}{d x^{2}}  f{\\left (x \\right )} + \\mathcal{O}\\left(h^{3}\\right)$$"
      ],
      "text/plain": [
       "                                     2              \n",
       "                                 2  d               \n",
       "                                h ⋅───(f(x))        \n",
       "                                     2              \n",
       "                     d             dx           ⎛ 3⎞\n",
       "f(-h + x) = f(x) - h⋅──(f(x)) + ──────────── + O⎝h ⎠\n",
       "                     dx              2              "
      ]
     },
     "execution_count": 13,
     "metadata": {},
     "output_type": "execute_result"
    }
   ],
   "source": [
    "func = f(x-h)\n",
    "Eq(func, func.series(h, n=3).doit())"
   ]
  },
  {
   "cell_type": "markdown",
   "metadata": {},
   "source": [
    "# 2. Centralna diferenčna shema"
   ]
  },
  {
   "cell_type": "markdown",
   "metadata": {},
   "source": [
    "### Prvi odvod $f'(x)$"
   ]
  },
  {
   "cell_type": "markdown",
   "metadata": {},
   "source": [
    "Če Taylorjevo vrsto nazaj odštejemo od vrste naprej, se sodi odvodi odštejejo:"
   ]
  },
  {
   "cell_type": "code",
   "execution_count": 14,
   "metadata": {
    "collapsed": false
   },
   "outputs": [
    {
     "data": {
      "image/png": "[encoded data removed]",
      "text/latex": [
       "$$- f{\\left (- h + x \\right )} + f{\\left (h + x \\right )} = 2 h \\frac{d}{d x} f{\\left (x \\right )} + \\mathcal{O}\\left(h^{3}\\right)$$"
      ],
      "text/plain": [
       "                            d           ⎛ 3⎞\n",
       "-f(-h + x) + f(h + x) = 2⋅h⋅──(f(x)) + O⎝h ⎠\n",
       "                            dx              "
      ]
     },
     "execution_count": 14,
     "metadata": {},
     "output_type": "execute_result"
    }
   ],
   "source": [
    "razlika = f(x+h) - f(x-h)\n",
    "eq = Eq(razlika, razlika.series(h, n=3).doit())\n",
    "eq"
   ]
  },
  {
   "cell_type": "code",
   "execution_count": 15,
   "metadata": {
    "collapsed": false
   },
   "outputs": [
    {
     "data": {
      "image/png": "[encoded data removed]",
      "text/latex": [
       "$$\\frac{1}{2 h} \\left(f{\\left (h + x \\right )} - f{\\left (- h + x \\right )} + \\mathcal{O}\\left(h^{3}\\right)\\right)$$"
      ],
      "text/plain": [
       "                        ⎛ 3⎞\n",
       "f(h + x) - f(-h + x) + O⎝h ⎠\n",
       "────────────────────────────\n",
       "            2⋅h             "
      ]
     },
     "execution_count": 15,
     "metadata": {},
     "output_type": "execute_result"
    }
   ],
   "source": [
    "solve(eq, f(x).diff(x))[0]"
   ]
  },
  {
   "cell_type": "markdown",
   "metadata": {},
   "source": [
    "Zanemarimo višje odvode ($\\mathcal{O}(h^{3})$) in rešimo za $f'(x)$:"
   ]
  },
  {
   "cell_type": "code",
   "execution_count": 16,
   "metadata": {
    "collapsed": false
   },
   "outputs": [
    {
     "data": {
      "image/png": "[encoded data removed]",
      "text/latex": [
       "$$\\frac{1}{2 h} \\left(- f{\\left (- h + x \\right )} + f{\\left (h + x \\right )}\\right)$$"
      ],
      "text/plain": [
       "-f(-h + x) + f(h + x)\n",
       "─────────────────────\n",
       "         2⋅h         "
      ]
     },
     "execution_count": 16,
     "metadata": {},
     "output_type": "execute_result"
    }
   ],
   "source": [
    "f1 = solve(\n",
    "           Eq(razlika, razlika.series(h, n=3).doit().removeO()),\n",
    "           f(x).diff(x)\n",
    "          )[0]#.expand()\n",
    "f1"
   ]
  },
  {
   "cell_type": "markdown",
   "metadata": {},
   "source": [
    "#### Primer uporabe"
   ]
  },
  {
   "cell_type": "code",
   "execution_count": 17,
   "metadata": {
    "collapsed": false
   },
   "outputs": [
    {
     "data": {
      "image/png": "[encoded data removed]",
      "text/latex": [
       "$$e^{- x}$$"
      ],
      "text/plain": [
       " -x\n",
       "ℯ  "
      ]
     },
     "execution_count": 17,
     "metadata": {},
     "output_type": "execute_result"
    }
   ],
   "source": [
    "fp"
   ]
  },
  {
   "cell_type": "code",
   "execution_count": 18,
   "metadata": {
    "collapsed": false
   },
   "outputs": [
    {
     "data": {
      "image/png": "[encoded data removed]",
      "text/latex": [
       "$$- e^{- x}$$"
      ],
      "text/plain": [
       "  -x\n",
       "-ℯ  "
      ]
     },
     "execution_count": 18,
     "metadata": {},
     "output_type": "execute_result"
    }
   ],
   "source": [
    "dfp"
   ]
  },
  {
   "cell_type": "code",
   "execution_count": 19,
   "metadata": {
    "collapsed": false
   },
   "outputs": [
    {
     "data": {
      "image/png": "[encoded data removed]",
      "text/plain": [
       "<matplotlib.figure.Figure at 0xa6851a0a20>"
      ]
     },
     "metadata": {},
     "output_type": "display_data"
    }
   ],
   "source": [
    "hh = 0.5\n",
    "xx = np.linspace(-1, 2, 50)\n",
    "num_od_O2 = (np.exp(-(xx+hh)) - np.exp(-xx))/(hh)\n",
    "num_od_O3 = (np.exp(-(xx+hh)) - np.exp(-(xx-hh)))/(2*hh)\n",
    "plt.plot(xx, -np.exp(-xx), label='odvod $f\\'(x)=-\\exp(-x)$');\n",
    "plt.plot(xx, num_od_O2, 'r', label='num $\\mathcal{O}(h^{2})$');\n",
    "plt.plot(xx, num_od_O3, 'g', label='num $\\mathcal{O}(h^{3})$');\n",
    "plt.legend(loc=(.4, 0));"
   ]
  },
  {
   "cell_type": "markdown",
   "metadata": {},
   "source": [
    "### Drugi odvod $f''(x)$"
   ]
  },
  {
   "cell_type": "markdown",
   "metadata": {},
   "source": [
    "Če Taylorjevo vrsto naprej in nazaj seštejemo, se odštejejo lihi odvodi:"
   ]
  },
  {
   "cell_type": "code",
   "execution_count": 20,
   "metadata": {
    "collapsed": false
   },
   "outputs": [
    {
     "data": {
      "image/png": "[encoded data removed]",
      "text/latex": [
       "$$f{\\left (- h + x \\right )} + f{\\left (h + x \\right )} = 2 f{\\left (x \\right )} + h^{2} \\frac{d^{2}}{d x^{2}}  f{\\left (x \\right )} + \\frac{h^{4}}{12} \\frac{d^{4}}{d x^{4}}  f{\\left (x \\right )} + \\mathcal{O}\\left(h^{5}\\right)$$"
      ],
      "text/plain": [
       "                                                    4              \n",
       "                                                4  d               \n",
       "                                               h ⋅───(f(x))        \n",
       "                                     2              4              \n",
       "                                 2  d             dx           ⎛ 5⎞\n",
       "f(-h + x) + f(h + x) = 2⋅f(x) + h ⋅───(f(x)) + ──────────── + O⎝h ⎠\n",
       "                                     2              12             \n",
       "                                   dx                              "
      ]
     },
     "execution_count": 20,
     "metadata": {},
     "output_type": "execute_result"
    }
   ],
   "source": [
    "vsota = f(x+h) + f(x-h)\n",
    "Eq(vsota, vsota.series(h, n=5).doit())"
   ]
  },
  {
   "cell_type": "markdown",
   "metadata": {},
   "source": [
    "Ponovno zanemarimo višje odvode ($\\mathcal{O}(h^{3})$) in izpostavimo drugi odvod:"
   ]
  },
  {
   "cell_type": "code",
   "execution_count": 21,
   "metadata": {
    "collapsed": false
   },
   "outputs": [
    {
     "data": {
      "image/png": "[encoded data removed]",
      "text/latex": [
       "$$\\frac{1}{h^{2}} \\left(- 2 f{\\left (x \\right )} + f{\\left (- h + x \\right )} + f{\\left (h + x \\right )}\\right)$$"
      ],
      "text/plain": [
       "-2⋅f(x) + f(-h + x) + f(h + x)\n",
       "──────────────────────────────\n",
       "               2              \n",
       "              h               "
      ]
     },
     "execution_count": 21,
     "metadata": {},
     "output_type": "execute_result"
    }
   ],
   "source": [
    "f2 = solve(\n",
    "           Eq(vsota, vsota.series(h, n=4).doit().removeO()),\n",
    "           f(x).diff(x,2)\n",
    "           )[0]\n",
    "f2"
   ]
  },
  {
   "cell_type": "markdown",
   "metadata": {},
   "source": [
    "### Tretji odvod $f'''(x)$"
   ]
  },
  {
   "cell_type": "markdown",
   "metadata": {},
   "source": [
    "Ponovimo izvajanje za prvi odvod $f'(x)$, vendar sedaj zanemarimo $\\mathcal{O}(h^{4})$:"
   ]
  },
  {
   "cell_type": "code",
   "execution_count": 22,
   "metadata": {
    "collapsed": false
   },
   "outputs": [
    {
     "data": {
      "image/png": "[encoded data removed]",
      "text/latex": [
       "$$- f{\\left (- h + x \\right )} + f{\\left (h + x \\right )} = 2 h \\frac{d}{d x} f{\\left (x \\right )} + \\frac{h^{3}}{3} \\frac{d^{3}}{d x^{3}}  f{\\left (x \\right )} + \\mathcal{O}\\left(h^{4}\\right)$$"
      ],
      "text/plain": [
       "                                            3              \n",
       "                                        3  d               \n",
       "                                       h ⋅───(f(x))        \n",
       "                                            3              \n",
       "                            d             dx           ⎛ 4⎞\n",
       "-f(-h + x) + f(h + x) = 2⋅h⋅──(f(x)) + ──────────── + O⎝h ⎠\n",
       "                            dx              3              "
      ]
     },
     "execution_count": 22,
     "metadata": {},
     "output_type": "execute_result"
    }
   ],
   "source": [
    "Eq(razlika, razlika.series(h, n=4).doit())"
   ]
  },
  {
   "cell_type": "code",
   "execution_count": 23,
   "metadata": {
    "collapsed": false
   },
   "outputs": [
    {
     "data": {
      "image/png": "[encoded data removed]",
      "text/latex": [
       "$$\\frac{1}{6 h} \\left(- h^{3} \\frac{d^{3}}{d x^{3}}  f{\\left (x \\right )} - 3 f{\\left (- h + x \\right )} + 3 f{\\left (h + x \\right )}\\right)$$"
      ],
      "text/plain": [
       "       3                                 \n",
       "   3  d                                  \n",
       "- h ⋅───(f(x)) - 3⋅f(-h + x) + 3⋅f(h + x)\n",
       "       3                                 \n",
       "     dx                                  \n",
       "─────────────────────────────────────────\n",
       "                   6⋅h                   "
      ]
     },
     "execution_count": 23,
     "metadata": {},
     "output_type": "execute_result"
    }
   ],
   "source": [
    "f1_O4 = solve(\n",
    "              Eq(razlika, razlika.series(h, n=5).doit().removeO()),\n",
    "              f(x).diff(x)\n",
    "             )[0]\n",
    "f1_O4"
   ]
  },
  {
   "cell_type": "markdown",
   "metadata": {},
   "source": [
    "Da bi izračunali $f'''(x)$ potrebujemo torej še eno enačbo; pridobimo jo tako, da za isto lego $x$ izračunamo $f'(x)$ z dvojnim korakom $2h$. Podobno kakor zgoraj torej zapišemo:"
   ]
  },
  {
   "cell_type": "code",
   "execution_count": 24,
   "metadata": {
    "collapsed": false
   },
   "outputs": [
    {
     "data": {
      "image/png": "[encoded data removed]",
      "text/latex": [
       "$$- f{\\left (- 2 h + x \\right )} + f{\\left (2 h + x \\right )} = 4 h \\frac{d}{d x} f{\\left (x \\right )} + \\frac{8 h^{3}}{3} \\frac{d^{3}}{d x^{3}}  f{\\left (x \\right )} + \\mathcal{O}\\left(h^{5}\\right)$$"
      ],
      "text/plain": [
       "                                                  3              \n",
       "                                              3  d               \n",
       "                                           8⋅h ⋅───(f(x))        \n",
       "                                                  3              \n",
       "                                d               dx           ⎛ 5⎞\n",
       "-f(-2⋅h + x) + f(2⋅h + x) = 4⋅h⋅──(f(x)) + ────────────── + O⎝h ⎠\n",
       "                                dx               3               "
      ]
     },
     "execution_count": 24,
     "metadata": {},
     "output_type": "execute_result"
    }
   ],
   "source": [
    "razlika2h = f(x+2*h) - f(x-2*h)\n",
    "Eq(razlika2h, razlika2h.series(h, n=5).doit())"
   ]
  },
  {
   "cell_type": "markdown",
   "metadata": {},
   "source": [
    "Prvi odvod $f'(x)$ izračunan z dvojnim korakom $2h$ torej je:"
   ]
  },
  {
   "cell_type": "code",
   "execution_count": 25,
   "metadata": {
    "collapsed": false
   },
   "outputs": [
    {
     "data": {
      "image/png": "[encoded data removed]",
      "text/latex": [
       "$$- \\frac{2 h^{2}}{3} \\frac{d^{3}}{d x^{3}}  f{\\left (x \\right )} - \\frac{1}{4 h} f{\\left (- 2 h + x \\right )} + \\frac{1}{4 h} f{\\left (2 h + x \\right )}$$"
      ],
      "text/plain": [
       "         3                                 \n",
       "     2  d                                  \n",
       "  2⋅h ⋅───(f(x))                           \n",
       "         3                                 \n",
       "       dx          f(-2⋅h + x)   f(2⋅h + x)\n",
       "- ────────────── - ─────────── + ──────────\n",
       "        3              4⋅h          4⋅h    "
      ]
     },
     "execution_count": 25,
     "metadata": {},
     "output_type": "execute_result"
    }
   ],
   "source": [
    "f1_O4_2h = solve(\n",
    "                Eq(razlika2h, razlika2h.series(h, n=5).doit().removeO()),\n",
    "                f(x).diff(x)\n",
    "                )[0].expand()\n",
    "f1_O4_2h"
   ]
  },
  {
   "cell_type": "markdown",
   "metadata": {},
   "source": [
    "Izenačimo izraza za prvi odvod $f'(x)$ z enojnim in dvojnim korakom:"
   ]
  },
  {
   "cell_type": "code",
   "execution_count": 26,
   "metadata": {
    "collapsed": false
   },
   "outputs": [
    {
     "data": {
      "image/png": "[encoded data removed]",
      "text/latex": [
       "$$\\frac{1}{6 h} \\left(- h^{3} \\frac{d^{3}}{d x^{3}}  f{\\left (x \\right )} - 3 f{\\left (- h + x \\right )} + 3 f{\\left (h + x \\right )}\\right) = - \\frac{2 h^{2}}{3} \\frac{d^{3}}{d x^{3}}  f{\\left (x \\right )} - \\frac{1}{4 h} f{\\left (- 2 h + x \\right )} + \\frac{1}{4 h} f{\\left (2 h + x \\right )}$$"
      ],
      "text/plain": [
       "       3                                             3                        \n",
       "   3  d                                          2  d                         \n",
       "- h ⋅───(f(x)) - 3⋅f(-h + x) + 3⋅f(h + x)     2⋅h ⋅───(f(x))                  \n",
       "       3                                             3                        \n",
       "     dx                                            dx          f(-2⋅h + x)   f\n",
       "───────────────────────────────────────── = - ────────────── - ─────────── + ─\n",
       "                   6⋅h                              3              4⋅h        \n",
       "\n",
       "         \n",
       "         \n",
       "         \n",
       "         \n",
       "(2⋅h + x)\n",
       "─────────\n",
       "  4⋅h    "
      ]
     },
     "execution_count": 26,
     "metadata": {},
     "output_type": "execute_result"
    }
   ],
   "source": [
    "Eq(f1_O4, f1_O4_2h)"
   ]
  },
  {
   "cell_type": "markdown",
   "metadata": {},
   "source": [
    "Enačbo lahko rešimo za definiranje tretjega odvoda $f'''(x)$:"
   ]
  },
  {
   "cell_type": "code",
   "execution_count": 27,
   "metadata": {
    "collapsed": false
   },
   "outputs": [
    {
     "data": {
      "image/png": "[encoded data removed]",
      "text/latex": [
       "$$\\frac{1}{h^{3}} \\left(- \\frac{1}{2} f{\\left (- 2 h + x \\right )} + f{\\left (- h + x \\right )} - f{\\left (h + x \\right )} + \\frac{1}{2} f{\\left (2 h + x \\right )}\\right)$$"
      ],
      "text/plain": [
       "  f(-2⋅h + x)                          f(2⋅h + x)\n",
       "- ─────────── + f(-h + x) - f(h + x) + ──────────\n",
       "       2                                   2     \n",
       "─────────────────────────────────────────────────\n",
       "                         3                       \n",
       "                        h                        "
      ]
     },
     "execution_count": 27,
     "metadata": {},
     "output_type": "execute_result"
    }
   ],
   "source": [
    "f3 = solve(\n",
    "           Eq(f1_O4, f1_O4_2h),\n",
    "           f(x).diff(x,3)\n",
    "          )[0]#.expand()\n",
    "f3"
   ]
  },
  {
   "cell_type": "markdown",
   "metadata": {},
   "source": [
    "### Četrti odvod $f^{(4)}(x)$"
   ]
  },
  {
   "cell_type": "markdown",
   "metadata": {},
   "source": [
    "Podobno kakor za tretji odvod izvedemo za četrti odvod (vendar seštevamo Taylorjevo vrsto naprej in nazaj):"
   ]
  },
  {
   "cell_type": "code",
   "execution_count": 28,
   "metadata": {
    "collapsed": false
   },
   "outputs": [
    {
     "data": {
      "image/png": "[encoded data removed]",
      "text/latex": [
       "$$f{\\left (- h + x \\right )} + f{\\left (h + x \\right )} = 2 f{\\left (x \\right )} + h^{2} \\frac{d^{2}}{d x^{2}}  f{\\left (x \\right )} + \\frac{h^{4}}{12} \\frac{d^{4}}{d x^{4}}  f{\\left (x \\right )} + \\mathcal{O}\\left(h^{5}\\right)$$"
      ],
      "text/plain": [
       "                                                    4              \n",
       "                                                4  d               \n",
       "                                               h ⋅───(f(x))        \n",
       "                                     2              4              \n",
       "                                 2  d             dx           ⎛ 5⎞\n",
       "f(-h + x) + f(h + x) = 2⋅f(x) + h ⋅───(f(x)) + ──────────── + O⎝h ⎠\n",
       "                                     2              12             \n",
       "                                   dx                              "
      ]
     },
     "execution_count": 28,
     "metadata": {},
     "output_type": "execute_result"
    }
   ],
   "source": [
    "Eq(vsota, vsota.series(h, n=5).doit())"
   ]
  },
  {
   "cell_type": "markdown",
   "metadata": {},
   "source": [
    "Določimo torej drugi odvod:"
   ]
  },
  {
   "cell_type": "code",
   "execution_count": 29,
   "metadata": {
    "collapsed": false
   },
   "outputs": [
    {
     "data": {
      "image/png": "[encoded data removed]",
      "text/latex": [
       "$$\\frac{1}{h^{2}} \\left(- \\frac{h^{4}}{12} \\frac{d^{4}}{d x^{4}}  f{\\left (x \\right )} - 2 f{\\left (x \\right )} + f{\\left (- h + x \\right )} + f{\\left (h + x \\right )}\\right)$$"
      ],
      "text/plain": [
       "       4                                      \n",
       "   4  d                                       \n",
       "  h ⋅───(f(x))                                \n",
       "       4                                      \n",
       "     dx                                       \n",
       "- ──────────── - 2⋅f(x) + f(-h + x) + f(h + x)\n",
       "       12                                     \n",
       "──────────────────────────────────────────────\n",
       "                       2                      \n",
       "                      h                       "
      ]
     },
     "execution_count": 29,
     "metadata": {},
     "output_type": "execute_result"
    }
   ],
   "source": [
    "f2_O5 = solve(\n",
    "              Eq(vsota, vsota.series(h, n=6).doit().removeO()),\n",
    "              f(x).diff(x,2)\n",
    "             )[0]#.expand()\n",
    "f2_O5"
   ]
  },
  {
   "cell_type": "markdown",
   "metadata": {},
   "source": [
    "Podobno določimo drugi odvod $f''(x)$ iz seštevanja Taylorjeve vrste naprej in nazaj za dvojni korak $2h$:"
   ]
  },
  {
   "cell_type": "code",
   "execution_count": 30,
   "metadata": {
    "collapsed": false
   },
   "outputs": [
    {
     "data": {
      "image/png": "[encoded data removed]",
      "text/latex": [
       "$$- \\frac{h^{2}}{3} \\frac{d^{4}}{d x^{4}}  f{\\left (x \\right )} - \\frac{f{\\left (x \\right )}}{2 h^{2}} + \\frac{1}{4 h^{2}} f{\\left (- 2 h + x \\right )} + \\frac{1}{4 h^{2}} f{\\left (2 h + x \\right )}$$"
      ],
      "text/plain": [
       "       4                                        \n",
       "   2  d                                         \n",
       "  h ⋅───(f(x))                                  \n",
       "       4                                        \n",
       "     dx          f(x)   f(-2⋅h + x)   f(2⋅h + x)\n",
       "- ──────────── - ──── + ─────────── + ──────────\n",
       "       3            2          2            2   \n",
       "                 2⋅h        4⋅h          4⋅h    "
      ]
     },
     "execution_count": 30,
     "metadata": {},
     "output_type": "execute_result"
    }
   ],
   "source": [
    "vsota2h = f(x+2*h) + f(x-2*h)\n",
    "f2_O5_2h = solve(\n",
    "                Eq(vsota2h, vsota2h.series(h, n=6).doit().removeO()),\n",
    "                f(x).diff(x,2)\n",
    "                )[0].expand()\n",
    "f2_O5_2h"
   ]
  },
  {
   "cell_type": "markdown",
   "metadata": {},
   "source": [
    "In končno rešimo četrti odvod:"
   ]
  },
  {
   "cell_type": "code",
   "execution_count": 31,
   "metadata": {
    "collapsed": false
   },
   "outputs": [
    {
     "data": {
      "image/png": "[encoded data removed]",
      "text/latex": [
       "$$\\frac{1}{h^{4}} \\left(6 f{\\left (x \\right )} + f{\\left (- 2 h + x \\right )} - 4 f{\\left (- h + x \\right )} - 4 f{\\left (h + x \\right )} + f{\\left (2 h + x \\right )}\\right)$$"
      ],
      "text/plain": [
       "6⋅f(x) + f(-2⋅h + x) - 4⋅f(-h + x) - 4⋅f(h + x) + f(2⋅h + x)\n",
       "────────────────────────────────────────────────────────────\n",
       "                              4                             \n",
       "                             h                              "
      ]
     },
     "execution_count": 31,
     "metadata": {},
     "output_type": "execute_result"
    }
   ],
   "source": [
    "f4 = solve(\n",
    "           Eq(f2_O5, f2_O5_2h),\n",
    "           f(x).diff(x,4)\n",
    "          )[0]#.expand()\n",
    "f4"
   ]
  },
  {
   "cell_type": "markdown",
   "metadata": {},
   "source": [
    "### Povzetek centralne diferenčne sheme"
   ]
  },
  {
   "cell_type": "markdown",
   "metadata": {},
   "source": [
    "Zgoraj smo izpeljali prve štiri odvode:"
   ]
  },
  {
   "cell_type": "code",
   "execution_count": 32,
   "metadata": {
    "collapsed": false
   },
   "outputs": [
    {
     "data": {
      "image/png": "[encoded data removed]",
      "text/latex": [
       "$$\\left [ \\frac{1}{2 h} \\left(- f{\\left (- h + x \\right )} + f{\\left (h + x \\right )}\\right), \\quad \\frac{1}{h^{2}} \\left(- 2 f{\\left (x \\right )} + f{\\left (- h + x \\right )} + f{\\left (h + x \\right )}\\right), \\quad \\frac{1}{h^{3}} \\left(- \\frac{1}{2} f{\\left (- 2 h + x \\right )} + f{\\left (- h + x \\right )} - f{\\left (h + x \\right )} + \\frac{1}{2} f{\\left (2 h + x \\right )}\\right), \\quad \\frac{1}{h^{4}} \\left(6 f{\\left (x \\right )} + f{\\left (- 2 h + x \\right )} - 4 f{\\left (- h + x \\right )} - 4 f{\\left (h + x \\right )} + f{\\left (2 h + x \\right )}\\right)\\right ]$$"
      ],
      "text/plain": [
       "⎡                                                         f(-2⋅h + x)         \n",
       "⎢                                                       - ─────────── + f(-h +\n",
       "⎢-f(-h + x) + f(h + x)  -2⋅f(x) + f(-h + x) + f(h + x)         2              \n",
       "⎢─────────────────────, ──────────────────────────────, ──────────────────────\n",
       "⎢         2⋅h                          2                                      \n",
       "⎣                                     h                                       \n",
       "\n",
       "                 f(2⋅h + x)                                                   \n",
       " x) - f(h + x) + ──────────                                                   \n",
       "                     2       6⋅f(x) + f(-2⋅h + x) - 4⋅f(-h + x) - 4⋅f(h + x) +\n",
       "───────────────────────────, ─────────────────────────────────────────────────\n",
       "   3                                                       4                  \n",
       "  h                                                       h                   \n",
       "\n",
       "           ⎤\n",
       "           ⎥\n",
       " f(2⋅h + x)⎥\n",
       "───────────⎥\n",
       "           ⎥\n",
       "           ⎦"
      ]
     },
     "execution_count": 32,
     "metadata": {},
     "output_type": "execute_result"
    }
   ],
   "source": [
    "odvodi = [f1, f2, f3, f4]\n",
    "odvodi"
   ]
  },
  {
   "cell_type": "code",
   "execution_count": 33,
   "metadata": {
    "collapsed": false
   },
   "outputs": [],
   "source": [
    "diskretne_tocke = [f(x-2*h), f(x-h), f(x), f(x+h), f(x+2*h)]"
   ]
  },
  {
   "cell_type": "markdown",
   "metadata": {},
   "source": [
    "Pogljemo si spodnji primer:"
   ]
  },
  {
   "cell_type": "code",
   "execution_count": 34,
   "metadata": {
    "collapsed": false
   },
   "outputs": [
    {
     "data": {
      "image/png": "[encoded data removed]",
      "text/latex": [
       "$$- \\frac{1}{2 h}$$"
      ],
      "text/plain": [
       "-1 \n",
       "───\n",
       "2⋅h"
      ]
     },
     "execution_count": 34,
     "metadata": {},
     "output_type": "execute_result"
    }
   ],
   "source": [
    "f1.expand().coeff(diskretne_tocke[1])"
   ]
  },
  {
   "cell_type": "markdown",
   "metadata": {},
   "source": [
    "in ga posplošimo:"
   ]
  },
  {
   "cell_type": "code",
   "execution_count": 35,
   "metadata": {
    "collapsed": false
   },
   "outputs": [
    {
     "data": {
      "image/png": "[encoded data removed]",
      "text/latex": [
       "$$\\left [ \\left [ 0, \\quad - \\frac{1}{2 h}, \\quad 0, \\quad \\frac{1}{2 h}, \\quad 0\\right ], \\quad \\left [ 0, \\quad \\frac{1}{h^{2}}, \\quad - \\frac{2}{h^{2}}, \\quad \\frac{1}{h^{2}}, \\quad 0\\right ], \\quad \\left [ - \\frac{1}{2 h^{3}}, \\quad \\frac{1}{h^{3}}, \\quad 0, \\quad - \\frac{1}{h^{3}}, \\quad \\frac{1}{2 h^{3}}\\right ], \\quad \\left [ \\frac{1}{h^{4}}, \\quad - \\frac{4}{h^{4}}, \\quad \\frac{6}{h^{4}}, \\quad - \\frac{4}{h^{4}}, \\quad \\frac{1}{h^{4}}\\right ]\\right ]$$"
      ],
      "text/plain": [
       "⎡⎡   -1       1    ⎤  ⎡   1   -2   1    ⎤  ⎡-1    1      -1    1  ⎤  ⎡1   -4  \n",
       "⎢⎢0, ───, 0, ───, 0⎥, ⎢0, ──, ───, ──, 0⎥, ⎢────, ──, 0, ───, ────⎥, ⎢──, ───,\n",
       "⎢⎣   2⋅h     2⋅h   ⎦  ⎢    2    2   2   ⎥  ⎢   3   3       3     3⎥  ⎢ 4    4 \n",
       "⎣                     ⎣   h    h   h    ⎦  ⎣2⋅h   h       h   2⋅h ⎦  ⎣h    h  \n",
       "\n",
       " 6   -4   1 ⎤⎤\n",
       " ──, ───, ──⎥⎥\n",
       "  4    4   4⎥⎥\n",
       " h    h   h ⎦⎦"
      ]
     },
     "execution_count": 35,
     "metadata": {},
     "output_type": "execute_result"
    }
   ],
   "source": [
    "centralna_diff_shema = [[odvod.expand().coeff(ds) for ds in diskretne_tocke] for odvod in odvodi]\n",
    "centralna_diff_shema"
   ]
  },
  {
   "cell_type": "markdown",
   "metadata": {},
   "source": [
    "Zgornje povzetke lahko tudi zapišemo v tabelarični obliki:\n",
    "\n",
    "|       |$\\mbox{$f(x-2h)$}$|$\\mbox{$f(x-h)$}$ |$\\mbox{$\\quad f(x)\\quad$}$   |$\\mbox{$f(x+h)$}$ |$\\mbox{$f(x+2h)$}$|\n",
    "|:--------:|:-------------------:|:----------:|:----------:|:----------:|:----------:|\n",
    "|$\\mbox{$f'(x)=\\frac{1}{2h}\\cdot$}$| 0     | -1 | 0 | 1 | 0|\n",
    "|$\\mbox{$f''(x)=\\frac{1}{h^2}\\cdot$}$| 0 | 1 | -2 | 1 | 0|\n",
    "|$\\mbox{$f'''(x)=\\frac{1}{2h^3}\\cdot$}$| -1 | 2 | 0 | -2 | 1|\n",
    "|$\\mbox{$f^{(4)}(x)=\\frac{1}{h^4}\\cdot$}$| 1 | -4 | 6 | -4 | 1|\n",
    "\n",
    "Centralna diferenčna shema ima napako drugega reda $\\mathcal{O}(h^{2})$."
   ]
  },
  {
   "cell_type": "markdown",
   "metadata": {},
   "source": [
    "### Povečevanje reda napake"
   ]
  },
  {
   "cell_type": "markdown",
   "metadata": {},
   "source": [
    "Natančnost lahko teoretično poljubno povečujemo; vse kar moramo narediti je, da Taylorjevo vrsto razvijemo do višjega reda. Poglejmo si izpeljavo za prvi odvod $f'(x)$."
   ]
  },
  {
   "cell_type": "code",
   "execution_count": 36,
   "metadata": {
    "collapsed": false
   },
   "outputs": [
    {
     "data": {
      "image/png": "[encoded data removed]",
      "text/latex": [
       "$$- f{\\left (- h + x \\right )} + f{\\left (h + x \\right )} = 2 h \\frac{d}{d x} f{\\left (x \\right )} + \\frac{h^{3}}{3} \\frac{d^{3}}{d x^{3}}  f{\\left (x \\right )} + \\mathcal{O}\\left(h^{4}\\right)$$"
      ],
      "text/plain": [
       "                                            3              \n",
       "                                        3  d               \n",
       "                                       h ⋅───(f(x))        \n",
       "                                            3              \n",
       "                            d             dx           ⎛ 4⎞\n",
       "-f(-h + x) + f(h + x) = 2⋅h⋅──(f(x)) + ──────────── + O⎝h ⎠\n",
       "                            dx              3              "
      ]
     },
     "execution_count": 36,
     "metadata": {},
     "output_type": "execute_result"
    }
   ],
   "source": [
    "N=4\n",
    "Eq(razlika, razlika.series(h, n=N).doit())"
   ]
  },
  {
   "cell_type": "markdown",
   "metadata": {},
   "source": [
    "Določimo sedaj tretji odvod:"
   ]
  },
  {
   "cell_type": "code",
   "execution_count": 37,
   "metadata": {
    "collapsed": false
   },
   "outputs": [
    {
     "data": {
      "image/png": "[encoded data removed]",
      "text/latex": [
       "$$\\frac{1}{h^{5}} \\left(3 h^{2} \\left(- f{\\left (- h + x \\right )} + f{\\left (h + x \\right )}\\right) - 6 h^{3} \\frac{d}{d x} f{\\left (x \\right )} + \\mathcal{O}\\left(h^{6}\\right)\\right)$$"
      ],
      "text/plain": [
       "   2                              3 d           ⎛ 6⎞\n",
       "3⋅h ⋅(-f(-h + x) + f(h + x)) - 6⋅h ⋅──(f(x)) + O⎝h ⎠\n",
       "                                    dx              \n",
       "────────────────────────────────────────────────────\n",
       "                          5                         \n",
       "                         h                          "
      ]
     },
     "execution_count": 37,
     "metadata": {},
     "output_type": "execute_result"
    }
   ],
   "source": [
    "f3_O4 = solve(\n",
    "              Eq(razlika, razlika.series(h, n=N).doit()),\n",
    "              f(x).diff(x,3)\n",
    "             )[0]\n",
    "f3_O4"
   ]
  },
  {
   "cell_type": "markdown",
   "metadata": {},
   "source": [
    "Nadaljujemo razvojem razlike pri koraku $2h$:"
   ]
  },
  {
   "cell_type": "code",
   "execution_count": 38,
   "metadata": {
    "collapsed": false
   },
   "outputs": [
    {
     "data": {
      "image/png": "[encoded data removed]",
      "text/latex": [
       "$$- f{\\left (- 2 h + x \\right )} + f{\\left (2 h + x \\right )} = 4 h \\frac{d}{d x} f{\\left (x \\right )} + \\frac{8 h^{3}}{3} \\frac{d^{3}}{d x^{3}}  f{\\left (x \\right )} + \\mathcal{O}\\left(h^{4}\\right)$$"
      ],
      "text/plain": [
       "                                                  3              \n",
       "                                              3  d               \n",
       "                                           8⋅h ⋅───(f(x))        \n",
       "                                                  3              \n",
       "                                d               dx           ⎛ 4⎞\n",
       "-f(-2⋅h + x) + f(2⋅h + x) = 4⋅h⋅──(f(x)) + ────────────── + O⎝h ⎠\n",
       "                                dx               3               "
      ]
     },
     "execution_count": 38,
     "metadata": {},
     "output_type": "execute_result"
    }
   ],
   "source": [
    "Eq(razlika2h, razlika2h.series(h, n=N).doit())"
   ]
  },
  {
   "cell_type": "markdown",
   "metadata": {},
   "source": [
    "in vstavimo predhodno določeni tretji odvod: "
   ]
  },
  {
   "cell_type": "code",
   "execution_count": 39,
   "metadata": {
    "collapsed": false
   },
   "outputs": [
    {
     "data": {
      "image/png": "[encoded data removed]",
      "text/latex": [
       "$$- f{\\left (- 2 h + x \\right )} + f{\\left (2 h + x \\right )} = 8 f{\\left (h + x \\right )} - 8 f{\\left (- h + x \\right )} - 12 h \\frac{d}{d x} f{\\left (x \\right )} + \\mathcal{O}\\left(h^{4}\\right)$$"
      ],
      "text/plain": [
       "                                                            d           ⎛ 4⎞\n",
       "-f(-2⋅h + x) + f(2⋅h + x) = 8⋅f(h + x) - 8⋅f(-h + x) - 12⋅h⋅──(f(x)) + O⎝h ⎠\n",
       "                                                            dx              "
      ]
     },
     "execution_count": 39,
     "metadata": {},
     "output_type": "execute_result"
    }
   ],
   "source": [
    "eq = Eq(razlika2h, razlika2h.series(h, n=N).doit().removeO()).subs(f(x).diff(x,3), f3_O4).expand()\n",
    "eq"
   ]
  },
  {
   "cell_type": "markdown",
   "metadata": {},
   "source": [
    "Določimo torej prvi odvod z redom napake $\\mathcal{O}(h^{4})$:"
   ]
  },
  {
   "cell_type": "code",
   "execution_count": 40,
   "metadata": {
    "collapsed": false
   },
   "outputs": [
    {
     "data": {
      "image/png": "[encoded data removed]",
      "text/latex": [
       "$$- \\frac{1}{12 h} f{\\left (2 h + x \\right )} + \\frac{2}{3 h} f{\\left (h + x \\right )} - \\frac{2}{3 h} f{\\left (- h + x \\right )} + \\frac{1}{12 h} f{\\left (- 2 h + x \\right )} + \\mathcal{O}\\left(h^{3}\\right)$$"
      ],
      "text/plain": [
       "  f(2⋅h + x)   2⋅f(h + x)   2⋅f(-h + x)   f(-2⋅h + x)    ⎛ 3⎞\n",
       "- ────────── + ────────── - ─────────── + ─────────── + O⎝h ⎠\n",
       "     12⋅h         3⋅h           3⋅h           12⋅h           "
      ]
     },
     "execution_count": 40,
     "metadata": {},
     "output_type": "execute_result"
    }
   ],
   "source": [
    "f1_O4 = solve(\n",
    "              eq,\n",
    "              f(x).diff(x)\n",
    "             )[0].expand()\n",
    "f1_O4"
   ]
  },
  {
   "cell_type": "markdown",
   "metadata": {},
   "source": [
    "Zapišemo v urejeno obliko:"
   ]
  },
  {
   "cell_type": "code",
   "execution_count": 41,
   "metadata": {
    "collapsed": false
   },
   "outputs": [
    {
     "data": {
      "image/png": "[encoded data removed]",
      "text/latex": [
       "$$\\left [ \\frac{1}{12 h}, \\quad - \\frac{2}{3 h}, \\quad 0, \\quad \\frac{2}{3 h}, \\quad - \\frac{1}{12 h}\\right ]$$"
      ],
      "text/plain": [
       "⎡ 1    -2       2   -1  ⎤\n",
       "⎢────, ───, 0, ───, ────⎥\n",
       "⎣12⋅h  3⋅h     3⋅h  12⋅h⎦"
      ]
     },
     "execution_count": 41,
     "metadata": {},
     "output_type": "execute_result"
    }
   ],
   "source": [
    "[f1_O4.coeff(ds) for ds in diskretne_tocke]"
   ]
  },
  {
   "cell_type": "markdown",
   "metadata": {},
   "source": [
    "#### Uporaba ``scipy.misc.central_diff_weight`` za izračun koeficientov"
   ]
  },
  {
   "cell_type": "code",
   "execution_count": 42,
   "metadata": {
    "collapsed": false
   },
   "outputs": [],
   "source": [
    "from scipy.misc import central_diff_weights"
   ]
  },
  {
   "cell_type": "markdown",
   "metadata": {},
   "source": [
    "Prvi odvod (čez tri točke) napake reda  $\\mathcal{O}(h^{2})$"
   ]
  },
  {
   "cell_type": "code",
   "execution_count": 43,
   "metadata": {
    "collapsed": false
   },
   "outputs": [
    {
     "data": {
      "text/plain": [
       "array([-0.5,  0. ,  0.5])"
      ]
     },
     "execution_count": 43,
     "metadata": {},
     "output_type": "execute_result"
    }
   ],
   "source": [
    "central_diff_weights(Np=3, ndiv=1)"
   ]
  },
  {
   "cell_type": "code",
   "execution_count": 44,
   "metadata": {
    "collapsed": false
   },
   "outputs": [
    {
     "data": {
      "image/png": "[encoded data removed]",
      "text/latex": [
       "$$\\left [ \\left [ 0, \\quad - \\frac{1}{2 h}, \\quad 0, \\quad \\frac{1}{2 h}, \\quad 0\\right ], \\quad \\left [ 0, \\quad \\frac{1}{h^{2}}, \\quad - \\frac{2}{h^{2}}, \\quad \\frac{1}{h^{2}}, \\quad 0\\right ], \\quad \\left [ - \\frac{1}{2 h^{3}}, \\quad \\frac{1}{h^{3}}, \\quad 0, \\quad - \\frac{1}{h^{3}}, \\quad \\frac{1}{2 h^{3}}\\right ], \\quad \\left [ \\frac{1}{h^{4}}, \\quad - \\frac{4}{h^{4}}, \\quad \\frac{6}{h^{4}}, \\quad - \\frac{4}{h^{4}}, \\quad \\frac{1}{h^{4}}\\right ]\\right ]$$"
      ],
      "text/plain": [
       "⎡⎡   -1       1    ⎤  ⎡   1   -2   1    ⎤  ⎡-1    1      -1    1  ⎤  ⎡1   -4  \n",
       "⎢⎢0, ───, 0, ───, 0⎥, ⎢0, ──, ───, ──, 0⎥, ⎢────, ──, 0, ───, ────⎥, ⎢──, ───,\n",
       "⎢⎣   2⋅h     2⋅h   ⎦  ⎢    2    2   2   ⎥  ⎢   3   3       3     3⎥  ⎢ 4    4 \n",
       "⎣                     ⎣   h    h   h    ⎦  ⎣2⋅h   h       h   2⋅h ⎦  ⎣h    h  \n",
       "\n",
       " 6   -4   1 ⎤⎤\n",
       " ──, ───, ──⎥⎥\n",
       "  4    4   4⎥⎥\n",
       " h    h   h ⎦⎦"
      ]
     },
     "execution_count": 44,
     "metadata": {},
     "output_type": "execute_result"
    }
   ],
   "source": [
    "centralna_diff_shema"
   ]
  },
  {
   "cell_type": "markdown",
   "metadata": {},
   "source": [
    "Drugi odvod (čez tri točke) napake reda  $\\mathcal{O}(h^{2})$"
   ]
  },
  {
   "cell_type": "code",
   "execution_count": 45,
   "metadata": {
    "collapsed": false
   },
   "outputs": [
    {
     "data": {
      "text/plain": [
       "array([ 1., -2.,  1.])"
      ]
     },
     "execution_count": 45,
     "metadata": {},
     "output_type": "execute_result"
    }
   ],
   "source": [
    "central_diff_weights(Np=3, ndiv=2)"
   ]
  },
  {
   "cell_type": "markdown",
   "metadata": {},
   "source": [
    "Tretji odvod (čez pet točk) napake reda  $\\mathcal{O}(h^{2})$"
   ]
  },
  {
   "cell_type": "code",
   "execution_count": 46,
   "metadata": {
    "collapsed": false
   },
   "outputs": [
    {
     "data": {
      "text/plain": [
       "array([ -5.00000000e-01,   1.00000000e+00,   4.16333634e-17,\n",
       "        -1.00000000e+00,   5.00000000e-01])"
      ]
     },
     "execution_count": 46,
     "metadata": {},
     "output_type": "execute_result"
    }
   ],
   "source": [
    "central_diff_weights(Np=5, ndiv=3)"
   ]
  },
  {
   "cell_type": "markdown",
   "metadata": {},
   "source": [
    "Četrti odvod (čez pet točk) napake reda  $\\mathcal{O}(h^{2})$"
   ]
  },
  {
   "cell_type": "code",
   "execution_count": 47,
   "metadata": {
    "collapsed": false
   },
   "outputs": [
    {
     "data": {
      "text/plain": [
       "array([ 1., -4.,  6., -4.,  1.])"
      ]
     },
     "execution_count": 47,
     "metadata": {},
     "output_type": "execute_result"
    }
   ],
   "source": [
    "central_diff_weights(Np=5, ndiv=4)"
   ]
  },
  {
   "cell_type": "markdown",
   "metadata": {},
   "source": [
    "Prvi odvod (čez pet točk) napake reda  $\\mathcal{O}(h^{3})$"
   ]
  },
  {
   "cell_type": "code",
   "execution_count": 48,
   "metadata": {
    "collapsed": false
   },
   "outputs": [
    {
     "data": {
      "text/plain": [
       "array([  8.33333333e-02,  -6.66666667e-01,  -2.77555756e-17,\n",
       "         6.66666667e-01,  -8.33333333e-02])"
      ]
     },
     "execution_count": 48,
     "metadata": {},
     "output_type": "execute_result"
    }
   ],
   "source": [
    "central_diff_weights(Np=5, ndiv=1)"
   ]
  },
  {
   "cell_type": "markdown",
   "metadata": {},
   "source": [
    "#### Uporaba ``SymPy.as_finite_diff``"
   ]
  },
  {
   "cell_type": "markdown",
   "metadata": {},
   "source": [
    "Za pomoč pri končnih razlikah se lahko obrnemu tudi na ``SymPy`` funkcije:\n",
    "* `as_finite_diff`\n",
    "* `finite_diff_weights`\n",
    "* `apply_finite_diff`"
   ]
  },
  {
   "cell_type": "markdown",
   "metadata": {},
   "source": [
    "Tukaj si bomo pogledali prvo, ki nam omogoča izračun končnih razlik pri poljubnih vozliščih (korak ni nujno konstanten):"
   ]
  },
  {
   "cell_type": "code",
   "execution_count": 79,
   "metadata": {
    "collapsed": false
   },
   "outputs": [
    {
     "data": {
      "image/png": "[encoded data removed]",
      "text/latex": [
       "$$- \\frac{1}{2 h} f{\\left (- h \\right )} + \\frac{f{\\left (h \\right )}}{2 h}$$"
      ],
      "text/plain": [
       "  f(-h)   f(h)\n",
       "- ───── + ────\n",
       "   2⋅h    2⋅h "
      ]
     },
     "execution_count": 79,
     "metadata": {},
     "output_type": "execute_result"
    }
   ],
   "source": [
    "as_finite_diff(f(x).diff(x), [-h, h])"
   ]
  },
  {
   "cell_type": "code",
   "execution_count": 82,
   "metadata": {
    "collapsed": false
   },
   "outputs": [
    {
     "data": {
      "image/png": "[encoded data removed]",
      "text/latex": [
       "$$- \\frac{2}{3 h} f{\\left (- \\frac{h}{2} \\right )} + \\frac{2}{3 h} f{\\left (h \\right )}$$"
      ],
      "text/plain": [
       "     ⎛-h ⎞         \n",
       "  2⋅f⎜───⎟         \n",
       "     ⎝ 2 ⎠   2⋅f(h)\n",
       "- ──────── + ──────\n",
       "    3⋅h       3⋅h  "
      ]
     },
     "execution_count": 82,
     "metadata": {},
     "output_type": "execute_result"
    }
   ],
   "source": [
    "as_finite_diff(f(x).diff(x), [-h/2, h])"
   ]
  },
  {
   "cell_type": "code",
   "execution_count": 86,
   "metadata": {
    "collapsed": false,
    "scrolled": true
   },
   "outputs": [
    {
     "data": {
      "image/png": "[encoded data removed]",
      "text/latex": [
       "$$- \\frac{1}{h} f{\\left (0 \\right )} + \\frac{1}{h} f{\\left (h \\right )}$$"
      ],
      "text/plain": [
       "  f(0)   f(h)\n",
       "- ──── + ────\n",
       "   h      h  "
      ]
     },
     "execution_count": 86,
     "metadata": {},
     "output_type": "execute_result"
    }
   ],
   "source": [
    "as_finite_diff(f(x).diff(x), [0, h])"
   ]
  },
  {
   "cell_type": "markdown",
   "metadata": {},
   "source": [
    "# 3. Necentralna diferenčna metoda"
   ]
  },
  {
   "cell_type": "markdown",
   "metadata": {},
   "source": [
    "Centralna diferenčna shema, ki smo jo spoznali zgoraj je zelo uporabna in relativno natančna; ker pa je ne moremo vedno uporabiti (recimo na robu ali na začetku), si moramo pomagati z **necentralnimi diferenčnimi shemami**. Poznamo:\n",
    "* **diferenčno shemo naprej**, ki odvod točke aproksimira z vrednostmi v sledečih točkah in \n",
    "* **diferenčno shemo nazaj**, ki odvod točke aproksimira z vrednostmi v predhodnih točkah.\n",
    "\n",
    "Poglejmo si tukaj izpeljavo prvega odvoda $f'(x)$ z diferenčno shemo naprej. Najprej razvijemo Taylorjevo vrsto:"
   ]
  },
  {
   "cell_type": "code",
   "execution_count": 49,
   "metadata": {
    "collapsed": false
   },
   "outputs": [
    {
     "data": {
      "image/png": "[encoded data removed]",
      "text/latex": [
       "$$f{\\left (h + x \\right )} = f{\\left (x \\right )} + h \\frac{d}{d x} f{\\left (x \\right )} + \\frac{h^{2}}{2} \\frac{d^{2}}{d x^{2}}  f{\\left (x \\right )} + \\frac{h^{3}}{6} \\frac{d^{3}}{d x^{3}}  f{\\left (x \\right )} + \\frac{h^{4}}{24} \\frac{d^{4}}{d x^{4}}  f{\\left (x \\right )} + \\mathcal{O}\\left(h^{5}\\right)$$"
      ],
      "text/plain": [
       "                                    2              3              4           \n",
       "                                2  d           3  d           4  d            \n",
       "                               h ⋅───(f(x))   h ⋅───(f(x))   h ⋅───(f(x))     \n",
       "                                    2              3              4           \n",
       "                    d             dx             dx             dx           ⎛\n",
       "f(h + x) = f(x) + h⋅──(f(x)) + ──────────── + ──────────── + ──────────── + O⎝\n",
       "                    dx              2              6              24          \n",
       "\n",
       "   \n",
       "   \n",
       "   \n",
       "   \n",
       " 5⎞\n",
       "h ⎠\n",
       "   "
      ]
     },
     "execution_count": 49,
     "metadata": {},
     "output_type": "execute_result"
    }
   ],
   "source": [
    "naprej = f(x+h)\n",
    "Eq(naprej, naprej.series(h, n=5).doit())"
   ]
  },
  {
   "cell_type": "code",
   "execution_count": 50,
   "metadata": {
    "collapsed": false
   },
   "outputs": [
    {
     "data": {
      "image/png": "[encoded data removed]",
      "text/latex": [
       "$$\\frac{1}{h} f{\\left (h + x \\right )} - \\frac{1}{h} f{\\left (x \\right )} + \\mathcal{O}\\left(h\\right)$$"
      ],
      "text/plain": [
       "f(h + x)   f(x)       \n",
       "──────── - ──── + O(h)\n",
       "   h        h         "
      ]
     },
     "execution_count": 50,
     "metadata": {},
     "output_type": "execute_result"
    }
   ],
   "source": [
    "f1_F = solve(\n",
    "             Eq(naprej, naprej.series(h, n=2).doit()), \n",
    "             f(x).diff(x))[0].expand()\n",
    "f1_F"
   ]
  },
  {
   "cell_type": "markdown",
   "metadata": {},
   "source": [
    "Opazimo, da imamo z zanemaritvijo drugega in višjih odvodov relativno velik red napake  $\\mathcal{O}(h^{1})$. Seveda lahko z vključitvijo več členov zmanjšamo red napake. Tukaj bolj podrobno v izpeljevanje ne bomo šli; bomo si pa v nadaljevanju pogledali diferenčno shemo naprej/nazaj z redom napake  $\\mathcal{O}(h^{1})$ in  $\\mathcal{O}(h^{2})$."
   ]
  },
  {
   "cell_type": "markdown",
   "metadata": {},
   "source": [
    "### Diferenčna shema naprej"
   ]
  },
  {
   "cell_type": "markdown",
   "metadata": {},
   "source": [
    "Diferenčna shema za red napake $\\mathcal{O}(h^{1})$:\n",
    "\n",
    "|       |$\\mbox{$\\quad f(x)\\quad$}$|$\\mbox{$f(x+h)$}$ |$\\mbox{$f(x+2h)$}$   |$\\mbox{$f(x+3h)$}$ |$\\mbox{$f(x+4h)$}$|\n",
    "|:--------:|:-------------------:|:----------:|:----------:|:----------:|:----------:|\n",
    "|$\\mbox{$f'(x)=\\frac{1}{h}\\cdot$}$| -1     | 1 | 0 | 0 | 0|\n",
    "|$\\mbox{$f''(x)=\\frac{1}{h^2}\\cdot$}$| 1 | -2 | 1 | 0 | 0|\n",
    "|$\\mbox{$f'''(x)=\\frac{1}{h^3}\\cdot$}$| -1 | 3 | -3| 1 | 0|\n",
    "|$\\mbox{$f^{(4)}(x)=\\frac{1}{h^4}\\cdot$}$| 1 | -4 | 6 | -4 | 1|"
   ]
  },
  {
   "cell_type": "markdown",
   "metadata": {},
   "source": [
    "Diferenčna shema za red napake $\\mathcal{O}(h^{2})$:\n",
    "\n",
    "|       |$\\mbox{$\\quad f(x)\\quad$}$|$\\mbox{$f(x+h)$}$ |$\\mbox{$f(x+2h)$}$   |$\\mbox{$f(x+3h)$}$ |$\\mbox{$f(x+4h)$}$|$\\mbox{$f(x+5h)$}$|\n",
    "|:--------:|:-------------------:|:----------:|:----------:|:----------:|:----------:|:----------:|\n",
    "|$\\mbox{$f'(x)=\\frac{1}{2h}\\cdot$}$| -3 | 4 | -1| 0 | 0|  0| \n",
    "|$\\mbox{$f''(x)=\\frac{1}{h^2}\\cdot$}$| 2 | -5 | 4 | -1| 0| 0| \n",
    "|$\\mbox{$f'''(x)=\\frac{1}{2h^3}\\cdot$}$| -5 | 18| -24| 14| -3| 0| \n",
    "|$\\mbox{$f^{(4)}(x)=\\frac{1}{h^4}\\cdot$}$| 3 | -14 | 26 | -24 | 11| -2| "
   ]
  },
  {
   "cell_type": "markdown",
   "metadata": {},
   "source": [
    "### Diferenčna shema nazaj"
   ]
  },
  {
   "cell_type": "markdown",
   "metadata": {},
   "source": [
    "Diferenčna shema za red napake $\\mathcal{O}(h^{1})$:\n",
    "\n",
    "|       |$\\mbox{$f(x-4h)$}$|$\\mbox{$f(x-3h)$}$ |$\\mbox{$f(x-2h)$}$   |$\\mbox{$f(x-h)$}$ |$\\mbox{$\\quad f(x)\\quad$}$|\n",
    "|:--------:|:-------------------:|:----------:|:----------:|:----------:|:----------:|\n",
    "|$\\mbox{$f'(x)=\\frac{1}{h}\\cdot$}$| 0 | 0| 0 | -1| 1|\n",
    "|$\\mbox{$f''(x)=\\frac{1}{h^2}\\cdot$}$| 0 | 0 | 1 | -2| 1|\n",
    "|$\\mbox{$f'''(x)=\\frac{1}{h^3}\\cdot$}$| 0 | -1| 3| -3| 1|\n",
    "|$\\mbox{$f^{(4)}(x)=\\frac{1}{h^4}\\cdot$}$| 1 | -4 | 6 | -4 | 1|"
   ]
  },
  {
   "cell_type": "markdown",
   "metadata": {},
   "source": [
    "Diferenčna shema za red napake $\\mathcal{O}(h^{2})$:\n",
    "\n",
    "|       |$\\mbox{$f(x-5h)$}$|$\\mbox{$f(x-4h)$}$ |$\\mbox{$f(x-3h)$}$   |$\\mbox{$f(x-2h)$}$ |$\\mbox{$f(x-h)$}$|$\\mbox{$\\quad f(x)\\quad$}$|\n",
    "|:--------:|:-------------------:|:----------:|:----------:|:----------:|:----------:|:----------:|\n",
    "|$\\mbox{$f'(x)=\\frac{1}{2h}\\cdot$}$| 0 | 0| 0| 1 |-4| 3| \n",
    "|$\\mbox{$f''(x)=\\frac{1}{h^2}\\cdot$}$| 0 | 0 | -1| 4|-5| 2| \n",
    "|$\\mbox{$f'''(x)=\\frac{1}{2h^3}\\cdot$}$| 0 | 3| -14| 24|-18| 5| \n",
    "|$\\mbox{$f^{(4)}(x)=\\frac{1}{h^4}\\cdot$}$| -2| 11| -24| 26 | -14| 3| "
   ]
  },
  {
   "cell_type": "markdown",
   "metadata": {},
   "source": [
    "## Uporaba ``numpy.gradient``"
   ]
  },
  {
   "cell_type": "markdown",
   "metadata": {},
   "source": [
    "Za izračun numeričnih odvodov lahko uporabimo tudi ``numpy.gradient``, ki sprejme seznam poljubne dimenzije in izračuna odvod s pomočjo centralne diferenčne sheme za osrednje točke, za točke na robu pa diferenčno shemo naprej ali nazaj (prvega ali drugega reda). Za podrobnosti glejte dokumentacijo: [docs.scipy.org](http://docs.scipy.org/doc/numpy/reference/generated/numpy.gradient.html)."
   ]
  },
  {
   "cell_type": "markdown",
   "metadata": {},
   "source": [
    "# 4. Numerična napaka pri metodi končnih razlik"
   ]
  },
  {
   "cell_type": "markdown",
   "metadata": {},
   "source": [
    "Kot ime samo pove, metoda končnih razlik temelji na *končnih razlikah* $h$ in v kolikor je ta razlika $h$ relativno majhna, je sicer teoretično odvod v točki $x$ bolj natačno definiran, vendar pa zaradi omejene natančnosti razlika med vrednostmi funkcije $f(x)$ in $f(x+h)$ postane relativno majhna. Relativno napako razumemo glede na natančnost zapisa števila znotraj spomina. \n",
    "\n",
    "Spodaj si bomo pogledali primer, kjer bomo natančnost spreminjali v treh korakih:\n",
    "1. ``float16`` -\n",
    "    16 bitni zapis: predzank 1 bit, 5 bitov eksponent, 10 bitov mantisa\n",
    "* ``float32`` -\n",
    "    32 bitni zapis: predzank 1 bit, 8 bitov eksponent, 23 bitov mantisa\n",
    "* ``float64`` -\n",
    "    64 bitni zapis: predzank 1 bit, 11 bitov eksponent, 52 bitov mantisa (to je privzeta natančnost).\n",
    "\n",
    "Več o tipih v ``numpy``: http://docs.scipy.org/doc/numpy/user/basics.types.html"
   ]
  },
  {
   "cell_type": "markdown",
   "metadata": {},
   "source": [
    "### Preprosti primer"
   ]
  },
  {
   "cell_type": "markdown",
   "metadata": {},
   "source": [
    "Definirajmo najprej funkcijo, ki bo dala rezultat željene natančnosti:"
   ]
  },
  {
   "cell_type": "code",
   "execution_count": 51,
   "metadata": {
    "collapsed": false
   },
   "outputs": [],
   "source": [
    "def fun(x, dtype=float):\n",
    "    return np.exp(-x).astype(dtype)"
   ]
  },
  {
   "cell_type": "code",
   "execution_count": 52,
   "metadata": {
    "collapsed": false
   },
   "outputs": [
    {
     "data": {
      "text/plain": [
       "0.36792"
      ]
     },
     "execution_count": 52,
     "metadata": {},
     "output_type": "execute_result"
    }
   ],
   "source": [
    "fun(1, dtype='float16')"
   ]
  },
  {
   "cell_type": "code",
   "execution_count": 53,
   "metadata": {
    "collapsed": false
   },
   "outputs": [
    {
     "data": {
      "text/plain": [
       "0.36792"
      ]
     },
     "execution_count": 53,
     "metadata": {},
     "output_type": "execute_result"
    }
   ],
   "source": [
    "fun(1.0002, dtype='float16')"
   ]
  },
  {
   "cell_type": "markdown",
   "metadata": {},
   "source": [
    "Nato še prvi odvod s centralno diferenčno shemo (željene natančnosti)"
   ]
  },
  {
   "cell_type": "code",
   "execution_count": 54,
   "metadata": {
    "collapsed": false
   },
   "outputs": [],
   "source": [
    "def f1_MKE(fun, x, h, dtype=float):\n",
    "    xf, hf = np.asarray((x, h)).astype(dtype=dtype)\n",
    "    return (fun(xf+hf, dtype=dtype)-fun(xf-hf,dtype=dtype))/(2*hf)"
   ]
  },
  {
   "cell_type": "code",
   "execution_count": 55,
   "metadata": {
    "collapsed": false
   },
   "outputs": [
    {
     "data": {
      "image/png": "[encoded data removed]",
      "text/latex": [
       "$$-0.366132723112$$"
      ],
      "text/plain": [
       "-0.366132723112"
      ]
     },
     "execution_count": 55,
     "metadata": {},
     "output_type": "execute_result"
    }
   ],
   "source": [
    "f1_MKE(fun, 1, h=.01, dtype='float16')"
   ]
  },
  {
   "cell_type": "code",
   "execution_count": 56,
   "metadata": {
    "collapsed": false
   },
   "outputs": [
    {
     "data": {
      "image/png": "[encoded data removed]",
      "text/latex": [
       "$$-0.367885572526$$"
      ],
      "text/plain": [
       "-0.367885572526"
      ]
     },
     "execution_count": 56,
     "metadata": {},
     "output_type": "execute_result"
    }
   ],
   "source": [
    "f1_MKE(fun, 1, h=.01, dtype='float64')"
   ]
  },
  {
   "cell_type": "markdown",
   "metadata": {},
   "source": [
    "Definirajmo sedaj korak:"
   ]
  },
  {
   "cell_type": "code",
   "execution_count": 57,
   "metadata": {
    "collapsed": false
   },
   "outputs": [
    {
     "data": {
      "text/plain": [
       "array([  1.00000000e+00,   2.50000000e-01,   6.25000000e-02,\n",
       "         1.56250000e-02,   3.90625000e-03,   9.76562500e-04,\n",
       "         2.44140625e-04,   6.10351562e-05,   1.52587891e-05,\n",
       "         3.81469727e-06,   9.53674316e-07,   2.38418579e-07,\n",
       "         5.96046448e-08,   1.49011612e-08,   3.72529030e-09,\n",
       "         9.31322575e-10,   2.32830644e-10,   5.82076609e-11,\n",
       "         1.45519152e-11,   3.63797881e-12,   9.09494702e-13,\n",
       "         2.27373675e-13,   5.68434189e-14,   1.42108547e-14,\n",
       "         3.55271368e-15,   8.88178420e-16,   2.22044605e-16,\n",
       "         5.55111512e-17,   1.38777878e-17,   3.46944695e-18])"
      ]
     },
     "execution_count": 57,
     "metadata": {},
     "output_type": "execute_result"
    }
   ],
   "source": [
    "h=0.25**np.arange(30)\n",
    "h"
   ]
  },
  {
   "cell_type": "markdown",
   "metadata": {},
   "source": [
    "In izrišemo različne tipe v odvisnosti od velikosti koraka $h$:"
   ]
  },
  {
   "cell_type": "code",
   "execution_count": 58,
   "metadata": {
    "collapsed": false
   },
   "outputs": [
    {
     "name": "stderr",
     "output_type": "stream",
     "text": [
      "C:\\Anaconda3\\lib\\site-packages\\ipykernel\\__main__.py:3: RuntimeWarning: invalid value encountered in true_divide\n",
      "  app.launch_new_instance()\n"
     ]
    },
    {
     "data": {
      "image/png": "[encoded data removed]",
      "text/plain": [
       "<matplotlib.figure.Figure at 0xa6873bcda0>"
      ]
     },
     "metadata": {},
     "output_type": "display_data"
    }
   ],
   "source": [
    "plt.semilogx(h,[f1_MKE(fun, 1., _, dtype='float16') for _ in h], 'b', lw=3, alpha=0.5, label='float16')\n",
    "plt.semilogx(h,[f1_MKE(fun, 1., _, dtype='float32') for _ in h], 'r', lw=3, alpha=0.5, label='float32')\n",
    "plt.semilogx(h,[f1_MKE(fun, 1., _, dtype='float64') for _ in h], 'g', lw=3, alpha=0.5, label='float64=float')\n",
    "plt.xlabel('$h$')\n",
    "plt.ylabel('$\\exp^{-1}$')\n",
    "plt.legend();"
   ]
  },
  {
   "cell_type": "markdown",
   "metadata": {},
   "source": [
    "Opazimo, da vsi tipi najprej konvergirajo k pravi vrednosti ($\\exp^{-1}=0.367879441171$), vendar pa potem z zmanjševanjem koraka ``float16`` zelo hitro divergira. Bistveno pozneje divergira ``float32`` in na koncu tudi ``float64``."
   ]
  },
  {
   "cell_type": "markdown",
   "metadata": {},
   "source": [
    "# Do naslednjih vaj preštudirajte sledeče:"
   ]
  },
  {
   "cell_type": "markdown",
   "metadata": {},
   "source": [
    "1. Za batni mehanizem na spodnji sliki strojno izpeljite kinematiko gibanja bata, če se kolenasta gred giblje po zakonu $\\varphi(t)=\\omega\\,t$.\n",
    "<img src='./fig/batni mehanizem.png' width=300>\n",
    "* Za kotno hitrosti $\\omega=2\\,\\pi\\,50\\,$rad/s izrišite lego bata v treh obratih gredi. Uporabite: $r=0.03\\,$m in $l=0.1\\,$m.\n",
    "* Simbolno odvajanje lege $x(t)$, da pridobite pospešek $\\ddot x(t)$.\n",
    "* Priprava funkcij za klicanje simbolnih izrazov za lego $x(t)$ in pospešek $\\ddot x(t)$ iz ``numpy``\n",
    "* S pomočjo ``scipy`` pripravite centralno diferenčno shemo za drugi odvod čez 3, 5, in 7 točk.\n",
    "* Raziščite funkcijo ``numpy.convolve`` in z njo na podlagi numeričnih vrednosti za $x$ numerično izračunajte pospešek $\\ddot x$. Kje je odvod pravilen?\n",
    "* S centralno diferenčno shemo drugega odvoda čez tri točke ste izračunali notranje točke, nastavite diferenčno shemo naprej za izračun prve točke z natančnostjo $\\mathcal{O}(h^{2})$.\n",
    "* Dodajte podatkom lege določeno mero šuma in preverite zakaj ni primerna uporaba numeričnega odvajanja na šumnih podatkih.\n",
    "* Z centralno diferenčno shemo drugega odvoda čez tri točke ste doslej izračunali notranje točke, nastavite diferenčno shemo nazaj za izračun zadnje točke z natančnostjo $\\mathcal{O}(h^{2})$.\n",
    "* Raziščite vpliv časovnega koraka na izračun drugega odvoda.\n",
    "* Izmerjene imamo sledeče pozicija (gibanja) avtomobila:\n",
    "\n",
    "    $t = [ 0. ,  0.1,  0.2,  0.3,  0.4,  0.5,  0.6,  0.7,  0.8,  0.9,  1. ]$ [h]\n",
    "\n",
    "    $s = [0, 3, 10, 13, 17, 25, 33, 46, 58, 75]$ [km]\n",
    "\n",
    "    Izračunajte hitrost in pospešek avtomobila pri času 0,5h. Hitrost in pospešek prikažite tudi v grafični obliki."
   ]
  },
  {
   "cell_type": "markdown",
   "metadata": {},
   "source": [
    "Delno rešene vaje se nahajajo [tukaj](./vaje/Vaja 10 - polovica.ipynb)."
   ]
  },
  {
   "cell_type": "markdown",
   "metadata": {},
   "source": [
    "## Ekstra"
   ]
  },
  {
   "cell_type": "markdown",
   "metadata": {},
   "source": [
    "Dodatek k domačim nalogam: 6. vprašanje bi lahko nadaljevali in zašumljene podatke gladili in nato izvedli odvajanje. Glajenje tukaj izvedite s konvolucijo med [0.21194156,  0.57611688,  0.21194156] in $x$."
   ]
  },
  {
   "cell_type": "markdown",
   "metadata": {},
   "source": [
    "[Video predavanja na temo numeričnega odvajanja](https://www.youtube.com/watch?v=ZJkGI5DZQv8&list=PLYdroRCLMg5OvLx1EtY1ByvveJeTEXQd_&index=18)"
   ]
  }
 ],
 "metadata": {
  "kernelspec": {
   "display_name": "Python 3",
   "language": "python",
   "name": "python3"
  },
  "language_info": {
   "codemirror_mode": {
    "name": "ipython",
    "version": 3
   },
   "file_extension": ".py",
   "mimetype": "text/x-python",
   "name": "python",
   "nbconvert_exporter": "python",
   "pygments_lexer": "ipython3",
   "version": "3.5.0"
  }
 },
 "nbformat": 4,
 "nbformat_minor": 0
}
